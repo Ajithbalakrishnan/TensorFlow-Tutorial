{
  "nbformat": 4,
  "nbformat_minor": 0,
  "metadata": {
    "colab": {
      "name": "Introduction to TensorFlow: graphs, sessions, constants, and variables.ipynb",
      "provenance": [],
      "include_colab_link": true
    },
    "kernelspec": {
      "name": "python3",
      "display_name": "Python 3"
    }
  },
  "cells": [
    {
      "cell_type": "markdown",
      "metadata": {
        "id": "view-in-github",
        "colab_type": "text"
      },
      "source": [
        "<a href=\"https://colab.research.google.com/github/interviewBubble/TensorFlow-Tutorial/blob/master/Introduction_to_TensorFlow_graphs%2C_sessions%2C_constants%2C_and_variables.ipynb\" target=\"_parent\"><img src=\"https://colab.research.google.com/assets/colab-badge.svg\" alt=\"Open In Colab\"/></a>"
      ]
    },
    {
      "cell_type": "markdown",
      "metadata": {
        "id": "Try5r4hzxw_f",
        "colab_type": "text"
      },
      "source": [
        "**Introduction**\n",
        "\n",
        "Let's start with importing TensorFlow in our project and making sure that we have installed the right version correctly. If you haven't installed TensorFlow yet, you can easily do so using PyPI: https://www.tensorflow.org/install/."
      ]
    },
    {
      "cell_type": "code",
      "metadata": {
        "id": "ldHVcifmx22v",
        "colab_type": "code",
        "colab": {
          "base_uri": "https://localhost:8080/",
          "height": 34
        },
        "outputId": "4cc7c6ad-d9fb-4562-8555-ee7335ec663b"
      },
      "source": [
        "import tensorflow as tf\n",
        "print(tf.__version__)"
      ],
      "execution_count": 4,
      "outputs": [
        {
          "output_type": "stream",
          "text": [
            "1.14.0\n"
          ],
          "name": "stdout"
        }
      ]
    },
    {
      "cell_type": "markdown",
      "metadata": {
        "id": "ueE7hrbvx9g5",
        "colab_type": "text"
      },
      "source": [
        "**Graphs and Sessions**\n",
        "\n",
        "Unless you are using the eager execution mode, operations in TensorFlow are not executed immediately. In TensorFlow, the description of the computations is separated from the execution. A typical TensorFlow program constructs a computational graph first, then creates a session to execute the operations in the graph. Let's create a very simple graph and run it in a session to compute the geometric mean of two numbers. In this example we used placeholders to feed the inputs to the graph. By defining a placeholder we tell the model that we will feed the values later, when we execute the graph. Feeding data this was can lead to input/output bottlenecks in large scale applications. We will later see how to read data in parallel while the graph is being executed."
      ]
    },
    {
      "cell_type": "code",
      "metadata": {
        "id": "dyNzrELTx3p9",
        "colab_type": "code",
        "colab": {
          "base_uri": "https://localhost:8080/",
          "height": 34
        },
        "outputId": "681db68c-92c6-4081-c786-0da8e7e236c9"
      },
      "source": [
        "# Define the inputs\n",
        "x = tf.placeholder(tf.float32)\n",
        "y = tf.placeholder(tf.float32)\n",
        "\n",
        "# Define the graph\n",
        "g_mean = tf.sqrt(x * y)\n",
        "\n",
        "# Run the graph\n",
        "with tf.Session() as sess:\n",
        "    res = sess.run(g_mean, feed_dict={x: 2, y:8})\n",
        "    print(res)"
      ],
      "execution_count": 5,
      "outputs": [
        {
          "output_type": "stream",
          "text": [
            "4.0\n"
          ],
          "name": "stdout"
        }
      ]
    },
    {
      "cell_type": "markdown",
      "metadata": {
        "id": "Ovtf_BgVyTig",
        "colab_type": "text"
      },
      "source": [
        "**Constants and Variables**\n",
        "\n",
        "We can declare constants and variables to use in a graph. The main differences between these two are:\n",
        "\n",
        "Constants have constant values whereas variables can change during execution. A typical example of a variable is a trainable weight in a neural network.\n",
        "\n",
        "Constants are stored in a graph where variables are not. Using constants increases the size of the graph\n",
        "\n",
        "Let's take a look at an example."
      ]
    },
    {
      "cell_type": "code",
      "metadata": {
        "id": "MiYkVicsyJ_q",
        "colab_type": "code",
        "colab": {
          "base_uri": "https://localhost:8080/",
          "height": 34
        },
        "outputId": "1ab6fa19-1c25-436a-8805-0cce8e277d2d"
      },
      "source": [
        "# This block gets an existing variable with a specific name within a variable scope\n",
        "# or creates a new one if no such variable exists\n",
        "# In this case it's identical to using tf.Variable\n",
        "# Variable scopes help us define and reuse variables within a context\n",
        "with tf.variable_scope(\"linear_model\", reuse=tf.AUTO_REUSE):\n",
        "    w = tf.get_variable(\"weight\", dtype=tf.float32, initializer=tf.constant(0.1))\n",
        "    c = tf.get_variable(\"bias\", dtype=tf.float32, initializer=tf.constant(0.0))\n",
        "\n",
        "# here we define our graph\n",
        "model = x * w + c\n",
        "\n",
        "with tf.Session() as sess:\n",
        "    # we need to initialize all variables otherwise it will throw an error\n",
        "    sess.run(tf.global_variables_initializer())\n",
        "    print(sess.run(model, feed_dict={x: 2.0}))"
      ],
      "execution_count": 6,
      "outputs": [
        {
          "output_type": "stream",
          "text": [
            "0.2\n"
          ],
          "name": "stdout"
        }
      ]
    },
    {
      "cell_type": "markdown",
      "metadata": {
        "id": "FFhh-bxPyl7l",
        "colab_type": "text"
      },
      "source": [
        "In the example above, we defined a very simple linear model with a single input, weight, and bias. We initialized the variables with constant values and ran the graph to print the initial output. We will later see how to train these variables to fit a function to data."
      ]
    }
  ]
}